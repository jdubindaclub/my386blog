{
 "cells": [
  {
   "attachments": {},
   "cell_type": "markdown",
   "metadata": {},
   "source": [
    "# Import Dependencies"
   ]
  },
  {
   "cell_type": "code",
   "execution_count": 1,
   "metadata": {},
   "outputs": [],
   "source": [
    "from googleapiclient.discovery import build\n",
    "import pandas as pd"
   ]
  },
  {
   "attachments": {},
   "cell_type": "markdown",
   "metadata": {},
   "source": [
    "# Extract Data Using Google's Youtube API"
   ]
  },
  {
   "attachments": {},
   "cell_type": "markdown",
   "metadata": {},
   "source": [
    "## extract all of the video ids from the channel"
   ]
  },
  {
   "cell_type": "code",
   "execution_count": 136,
   "metadata": {},
   "outputs": [],
   "source": [
    "# Replace with your API key\n",
    "API_KEY = \"\"\n",
    "\n",
    "# Set up the API client and specify the YouTube API version\n",
    "youtube = build(\"youtube\", \"v3\", developerKey=API_KEY)\n",
    "\n",
    "#good good\n",
    "#channel_id = \"UCfi-mPMOmche6WI-jkvnGXw\"\n",
    "#bob does sports\n",
    "channel_id = \"UCqr4sONkmFEOPc3rfoVLEvg\"\n",
    "#gm golf\n",
    "#channel_id = \"UClljAz6ZKy0XeViKsohdjqA\"\n",
    "\n",
    "# Define the parameters for the API request\n",
    "request = youtube.search().list(\n",
    "        part=\"id\",\n",
    "        channelId=channel_id,\n",
    "        maxResults=50\n",
    "    )\n",
    "\n",
    "# Retrieve the first page of video data\n",
    "response = request.execute()\n",
    "\n",
    "# Extract the video IDs from the API response\n",
    "video_ids = [item['id']['videoId'] for item in response['items'] if item['id']['kind'] == 'youtube#video']\n",
    "\n",
    "# Check if there are more pages of results available\n",
    "while 'nextPageToken' in response:\n",
    "    next_page_token = response['nextPageToken']\n",
    "    \n",
    "    # Define the parameters for the next API request\n",
    "    request = youtube.search().list(\n",
    "            part=\"id\",\n",
    "            channelId=channel_id,\n",
    "            maxResults=50,\n",
    "            pageToken=next_page_token\n",
    "        )\n",
    "    \n",
    "    # Retrieve the next page of video data\n",
    "    response = request.execute()\n",
    "    \n",
    "    # Extract the video IDs from the API response\n",
    "    video_ids += [item['id']['videoId'] for item in response['items'] if item['id']['kind'] == 'youtube#video']"
   ]
  },
  {
   "cell_type": "code",
   "execution_count": 27,
   "metadata": {},
   "outputs": [
    {
     "data": {
      "text/plain": [
       "503"
      ]
     },
     "execution_count": 27,
     "metadata": {},
     "output_type": "execute_result"
    }
   ],
   "source": [
    "len(video_ids)"
   ]
  },
  {
   "cell_type": "code",
   "execution_count": null,
   "metadata": {},
   "outputs": [],
   "source": []
  },
  {
   "attachments": {},
   "cell_type": "markdown",
   "metadata": {},
   "source": [
    "## Use the video ids to extract the video data from each video"
   ]
  },
  {
   "cell_type": "code",
   "execution_count": 137,
   "metadata": {},
   "outputs": [],
   "source": [
    "data = []\n",
    "\n",
    "for i in range(0, len(video_ids), 50):\n",
    "    current_video_ids = video_ids[i:i+50]\n",
    "    \n",
    "    #make API request to retrieve video details\n",
    "    video_request = youtube.videos().list(\n",
    "        part=\"snippet,contentDetails,statistics\",\n",
    "        id=\",\".join(current_video_ids),\n",
    "        maxResults=50\n",
    "    )\n",
    "    response = video_request.execute()\n",
    "\n",
    "    #add the video details to the data list\n",
    "    data.extend(response['items'])"
   ]
  },
  {
   "cell_type": "code",
   "execution_count": 5,
   "metadata": {},
   "outputs": [
    {
     "data": {
      "text/plain": [
       "211"
      ]
     },
     "execution_count": 5,
     "metadata": {},
     "output_type": "execute_result"
    }
   ],
   "source": [
    "len(data)"
   ]
  },
  {
   "cell_type": "code",
   "execution_count": 6,
   "metadata": {},
   "outputs": [
    {
     "data": {
      "text/plain": [
       "{'kind': 'youtube#video',\n",
       " 'etag': 'F3T704wB-gM2QnQw5Guo9tTypkc',\n",
       " 'id': 'bzLOWDceVZE',\n",
       " 'snippet': {'publishedAt': '2022-12-20T19:59:30Z',\n",
       "  'channelId': 'UCqr4sONkmFEOPc3rfoVLEvg',\n",
       "  'title': 'We Hosted Our Own Golf Tournament! - The Breezy Invitational Presented by Corona Premier',\n",
       "  'description': 'Tickets to the Breezy Invitational Phoenix go on sale tomorrow at 12 PM Eastern! - https://breezygolf.com/pages/breezy-invitational\\n\\nMERCH:  https://bobdoessports.com/\\nBONUS CLIPS - https://www.patreon.com/RobbyBerger\\n\\nFOLLOW THE SHOW: \\nhttps://www.instagram.com/bobdoessports/\\nhttps://vm.tiktok.com/ZMRvvbHtV/\\n\\nFollow Bob - https://www.instagram.com/brilliantlydumb/\\nFollow Cold Cuts - https://www.instagram.com/joey.coldcuts/\\nFollow Fat Perez - https://www.instagram.com/thefatperez/?hl=en\\nFollow The Jet - https://www.instagram.com/shickvids/',\n",
       "  'thumbnails': {'default': {'url': 'https://i.ytimg.com/vi/bzLOWDceVZE/default.jpg',\n",
       "    'width': 120,\n",
       "    'height': 90},\n",
       "   'medium': {'url': 'https://i.ytimg.com/vi/bzLOWDceVZE/mqdefault.jpg',\n",
       "    'width': 320,\n",
       "    'height': 180},\n",
       "   'high': {'url': 'https://i.ytimg.com/vi/bzLOWDceVZE/hqdefault.jpg',\n",
       "    'width': 480,\n",
       "    'height': 360},\n",
       "   'standard': {'url': 'https://i.ytimg.com/vi/bzLOWDceVZE/sddefault.jpg',\n",
       "    'width': 640,\n",
       "    'height': 480},\n",
       "   'maxres': {'url': 'https://i.ytimg.com/vi/bzLOWDceVZE/maxresdefault.jpg',\n",
       "    'width': 1280,\n",
       "    'height': 720}},\n",
       "  'channelTitle': 'Bob Does Sports',\n",
       "  'categoryId': '22',\n",
       "  'liveBroadcastContent': 'none',\n",
       "  'localized': {'title': 'We Hosted Our Own Golf Tournament! - The Breezy Invitational Presented by Corona Premier',\n",
       "   'description': 'Tickets to the Breezy Invitational Phoenix go on sale tomorrow at 12 PM Eastern! - https://breezygolf.com/pages/breezy-invitational\\n\\nMERCH:  https://bobdoessports.com/\\nBONUS CLIPS - https://www.patreon.com/RobbyBerger\\n\\nFOLLOW THE SHOW: \\nhttps://www.instagram.com/bobdoessports/\\nhttps://vm.tiktok.com/ZMRvvbHtV/\\n\\nFollow Bob - https://www.instagram.com/brilliantlydumb/\\nFollow Cold Cuts - https://www.instagram.com/joey.coldcuts/\\nFollow Fat Perez - https://www.instagram.com/thefatperez/?hl=en\\nFollow The Jet - https://www.instagram.com/shickvids/'}},\n",
       " 'contentDetails': {'duration': 'PT8M2S',\n",
       "  'dimension': '2d',\n",
       "  'definition': 'hd',\n",
       "  'caption': 'false',\n",
       "  'licensedContent': False,\n",
       "  'contentRating': {},\n",
       "  'projection': 'rectangular'},\n",
       " 'statistics': {'viewCount': '197927',\n",
       "  'likeCount': '7091',\n",
       "  'favoriteCount': '0',\n",
       "  'commentCount': '433'}}"
      ]
     },
     "execution_count": 6,
     "metadata": {},
     "output_type": "execute_result"
    }
   ],
   "source": [
    "data[0]"
   ]
  },
  {
   "cell_type": "code",
   "execution_count": 29,
   "metadata": {},
   "outputs": [
    {
     "data": {
      "text/plain": [
       "{'kind': 'youtube#video',\n",
       " 'etag': 'AH5sgNbkuRiOvVmSmTkd5eM8LB4',\n",
       " 'id': 'Dsd7q3Ssm5M',\n",
       " 'snippet': {'publishedAt': '2019-04-25T00:32:44Z',\n",
       "  'channelId': 'UClljAz6ZKy0XeViKsohdjqA',\n",
       "  'title': 'Easiest 6 Hole Stretch - Sunflower GC! Trying to Beat My Record Score on 18 Holes (-4, 68) - Part 2',\n",
       "  'description': 'Started to swing it well in this video! Stay tuned for part 3!\\nMerch: https://gmattire.com\\nMy Instagram:\\nhttps://www.instagram.com/gm__golf/\\nEditor: \\nhttps://www.instagram.com/andrew_peery/\\nOutro Song: \\nOutro song: “Same Dream” by Mateo Centeno \\n https://instagram.com/mateocenteno4real?utm_source=ig_profile_share&igshid=1qgra66p8179p\\nhttps://open.spotify.com/artist/0lnJahTLDegU7bS8ORs1NM?si=Me35TN4bSUyjRkRN1tJLbg',\n",
       "  'thumbnails': {'default': {'url': 'https://i.ytimg.com/vi/Dsd7q3Ssm5M/default.jpg',\n",
       "    'width': 120,\n",
       "    'height': 90},\n",
       "   'medium': {'url': 'https://i.ytimg.com/vi/Dsd7q3Ssm5M/mqdefault.jpg',\n",
       "    'width': 320,\n",
       "    'height': 180},\n",
       "   'high': {'url': 'https://i.ytimg.com/vi/Dsd7q3Ssm5M/hqdefault.jpg',\n",
       "    'width': 480,\n",
       "    'height': 360},\n",
       "   'standard': {'url': 'https://i.ytimg.com/vi/Dsd7q3Ssm5M/sddefault.jpg',\n",
       "    'width': 640,\n",
       "    'height': 480},\n",
       "   'maxres': {'url': 'https://i.ytimg.com/vi/Dsd7q3Ssm5M/maxresdefault.jpg',\n",
       "    'width': 1280,\n",
       "    'height': 720}},\n",
       "  'channelTitle': 'gm__golf',\n",
       "  'tags': ['golf',\n",
       "   'golfer',\n",
       "   'golfers',\n",
       "   'golfing',\n",
       "   'golf life',\n",
       "   'Swing Warms Up!',\n",
       "   'golf swing',\n",
       "   'edit',\n",
       "   'vlog',\n",
       "   'course vlog',\n",
       "   'golf course vlog',\n",
       "   'Beat My Record Score',\n",
       "   'Score on 18 Holes',\n",
       "   '(-4',\n",
       "   '68) - Part 2',\n",
       "   'Trying to Beat My Record Score on 18 Holes (-4',\n",
       "   'Trying to Beat My Record Score',\n",
       "   'Record Score on 18 Holes (-4',\n",
       "   'Part 2'],\n",
       "  'categoryId': '24',\n",
       "  'liveBroadcastContent': 'none',\n",
       "  'localized': {'title': 'Easiest 6 Hole Stretch - Sunflower GC! Trying to Beat My Record Score on 18 Holes (-4, 68) - Part 2',\n",
       "   'description': 'Started to swing it well in this video! Stay tuned for part 3!\\nMerch: https://gmattire.com\\nMy Instagram:\\nhttps://www.instagram.com/gm__golf/\\nEditor: \\nhttps://www.instagram.com/andrew_peery/\\nOutro Song: \\nOutro song: “Same Dream” by Mateo Centeno \\n https://instagram.com/mateocenteno4real?utm_source=ig_profile_share&igshid=1qgra66p8179p\\nhttps://open.spotify.com/artist/0lnJahTLDegU7bS8ORs1NM?si=Me35TN4bSUyjRkRN1tJLbg'},\n",
       "  'defaultAudioLanguage': 'en'},\n",
       " 'contentDetails': {'duration': 'PT13M42S',\n",
       "  'dimension': '2d',\n",
       "  'definition': 'hd',\n",
       "  'caption': 'false',\n",
       "  'licensedContent': True,\n",
       "  'contentRating': {},\n",
       "  'projection': 'rectangular'},\n",
       " 'statistics': {'viewCount': '85332',\n",
       "  'likeCount': '1171',\n",
       "  'favoriteCount': '0',\n",
       "  'commentCount': '95'}}"
      ]
     },
     "execution_count": 29,
     "metadata": {},
     "output_type": "execute_result"
    }
   ],
   "source": [
    "data[325]"
   ]
  },
  {
   "attachments": {},
   "cell_type": "markdown",
   "metadata": {},
   "source": [
    "## find the data that we want to use from each of the three categories we pulled"
   ]
  },
  {
   "attachments": {},
   "cell_type": "markdown",
   "metadata": {},
   "source": [
    "### snippet"
   ]
  },
  {
   "cell_type": "code",
   "execution_count": 8,
   "metadata": {},
   "outputs": [
    {
     "data": {
      "text/plain": [
       "{'publishedAt': '2022-12-20T19:59:30Z',\n",
       " 'channelId': 'UCqr4sONkmFEOPc3rfoVLEvg',\n",
       " 'title': 'We Hosted Our Own Golf Tournament! - The Breezy Invitational Presented by Corona Premier',\n",
       " 'description': 'Tickets to the Breezy Invitational Phoenix go on sale tomorrow at 12 PM Eastern! - https://breezygolf.com/pages/breezy-invitational\\n\\nMERCH:  https://bobdoessports.com/\\nBONUS CLIPS - https://www.patreon.com/RobbyBerger\\n\\nFOLLOW THE SHOW: \\nhttps://www.instagram.com/bobdoessports/\\nhttps://vm.tiktok.com/ZMRvvbHtV/\\n\\nFollow Bob - https://www.instagram.com/brilliantlydumb/\\nFollow Cold Cuts - https://www.instagram.com/joey.coldcuts/\\nFollow Fat Perez - https://www.instagram.com/thefatperez/?hl=en\\nFollow The Jet - https://www.instagram.com/shickvids/',\n",
       " 'thumbnails': {'default': {'url': 'https://i.ytimg.com/vi/bzLOWDceVZE/default.jpg',\n",
       "   'width': 120,\n",
       "   'height': 90},\n",
       "  'medium': {'url': 'https://i.ytimg.com/vi/bzLOWDceVZE/mqdefault.jpg',\n",
       "   'width': 320,\n",
       "   'height': 180},\n",
       "  'high': {'url': 'https://i.ytimg.com/vi/bzLOWDceVZE/hqdefault.jpg',\n",
       "   'width': 480,\n",
       "   'height': 360},\n",
       "  'standard': {'url': 'https://i.ytimg.com/vi/bzLOWDceVZE/sddefault.jpg',\n",
       "   'width': 640,\n",
       "   'height': 480},\n",
       "  'maxres': {'url': 'https://i.ytimg.com/vi/bzLOWDceVZE/maxresdefault.jpg',\n",
       "   'width': 1280,\n",
       "   'height': 720}},\n",
       " 'channelTitle': 'Bob Does Sports',\n",
       " 'categoryId': '22',\n",
       " 'liveBroadcastContent': 'none',\n",
       " 'localized': {'title': 'We Hosted Our Own Golf Tournament! - The Breezy Invitational Presented by Corona Premier',\n",
       "  'description': 'Tickets to the Breezy Invitational Phoenix go on sale tomorrow at 12 PM Eastern! - https://breezygolf.com/pages/breezy-invitational\\n\\nMERCH:  https://bobdoessports.com/\\nBONUS CLIPS - https://www.patreon.com/RobbyBerger\\n\\nFOLLOW THE SHOW: \\nhttps://www.instagram.com/bobdoessports/\\nhttps://vm.tiktok.com/ZMRvvbHtV/\\n\\nFollow Bob - https://www.instagram.com/brilliantlydumb/\\nFollow Cold Cuts - https://www.instagram.com/joey.coldcuts/\\nFollow Fat Perez - https://www.instagram.com/thefatperez/?hl=en\\nFollow The Jet - https://www.instagram.com/shickvids/'}}"
      ]
     },
     "execution_count": 8,
     "metadata": {},
     "output_type": "execute_result"
    }
   ],
   "source": [
    "data[0]['snippet']"
   ]
  },
  {
   "attachments": {},
   "cell_type": "markdown",
   "metadata": {},
   "source": [
    "from snippet we want: publishedAt and title"
   ]
  },
  {
   "attachments": {},
   "cell_type": "markdown",
   "metadata": {},
   "source": [
    "### contentDetails"
   ]
  },
  {
   "cell_type": "code",
   "execution_count": 9,
   "metadata": {},
   "outputs": [
    {
     "data": {
      "text/plain": [
       "{'duration': 'PT8M2S',\n",
       " 'dimension': '2d',\n",
       " 'definition': 'hd',\n",
       " 'caption': 'false',\n",
       " 'licensedContent': False,\n",
       " 'contentRating': {},\n",
       " 'projection': 'rectangular'}"
      ]
     },
     "execution_count": 9,
     "metadata": {},
     "output_type": "execute_result"
    }
   ],
   "source": [
    "data[0]['contentDetails']"
   ]
  },
  {
   "attachments": {},
   "cell_type": "markdown",
   "metadata": {},
   "source": [
    "from contentDetails we want: duration"
   ]
  },
  {
   "attachments": {},
   "cell_type": "markdown",
   "metadata": {},
   "source": [
    "### statistics"
   ]
  },
  {
   "cell_type": "code",
   "execution_count": 30,
   "metadata": {},
   "outputs": [
    {
     "data": {
      "text/plain": [
       "{'viewCount': '92771',\n",
       " 'likeCount': '2283',\n",
       " 'favoriteCount': '0',\n",
       " 'commentCount': '345'}"
      ]
     },
     "execution_count": 30,
     "metadata": {},
     "output_type": "execute_result"
    }
   ],
   "source": [
    "data[300]['statistics']"
   ]
  },
  {
   "attachments": {},
   "cell_type": "markdown",
   "metadata": {},
   "source": [
    "from statistics we want: viewCount, likeCount, and commentCount"
   ]
  },
  {
   "attachments": {},
   "cell_type": "markdown",
   "metadata": {},
   "source": [
    "## combine all of the data into one dataframe"
   ]
  },
  {
   "cell_type": "code",
   "execution_count": 138,
   "metadata": {},
   "outputs": [],
   "source": [
    "dat = []\n",
    "for i in range(0, len(data)):\n",
    "    date = data[i]['snippet']['publishedAt']\n",
    "    title = data[i]['snippet']['title']\n",
    "    duration = data[i]['contentDetails']['duration']\n",
    "    views = data[i]['statistics']['viewCount']\n",
    "    likes = data[i]['statistics']['likeCount']\n",
    "    comments = data[i]['statistics']['commentCount']\n",
    "    dat.append({'date': date, 'title': title, 'duration': duration, 'views': views, 'likes': likes, 'comments': comments})\n",
    "\n",
    "df = pd.DataFrame(dat)"
   ]
  },
  {
   "cell_type": "code",
   "execution_count": 12,
   "metadata": {},
   "outputs": [
    {
     "data": {
      "text/html": [
       "<div>\n",
       "<style scoped>\n",
       "    .dataframe tbody tr th:only-of-type {\n",
       "        vertical-align: middle;\n",
       "    }\n",
       "\n",
       "    .dataframe tbody tr th {\n",
       "        vertical-align: top;\n",
       "    }\n",
       "\n",
       "    .dataframe thead th {\n",
       "        text-align: right;\n",
       "    }\n",
       "</style>\n",
       "<table border=\"1\" class=\"dataframe\">\n",
       "  <thead>\n",
       "    <tr style=\"text-align: right;\">\n",
       "      <th></th>\n",
       "      <th>date</th>\n",
       "      <th>title</th>\n",
       "      <th>duration</th>\n",
       "      <th>views</th>\n",
       "      <th>likes</th>\n",
       "      <th>comments</th>\n",
       "    </tr>\n",
       "  </thead>\n",
       "  <tbody>\n",
       "    <tr>\n",
       "      <th>0</th>\n",
       "      <td>2022-12-20T19:59:30Z</td>\n",
       "      <td>We Hosted Our Own Golf Tournament! - The Breez...</td>\n",
       "      <td>PT8M2S</td>\n",
       "      <td>197927</td>\n",
       "      <td>7091</td>\n",
       "      <td>433</td>\n",
       "    </tr>\n",
       "    <tr>\n",
       "      <th>1</th>\n",
       "      <td>2022-05-26T17:00:31Z</td>\n",
       "      <td>Can We Break Bogey Golf Using Only One Club?</td>\n",
       "      <td>PT15M51S</td>\n",
       "      <td>379020</td>\n",
       "      <td>11881</td>\n",
       "      <td>853</td>\n",
       "    </tr>\n",
       "    <tr>\n",
       "      <th>2</th>\n",
       "      <td>2022-09-15T17:00:19Z</td>\n",
       "      <td>Can We Win Our First Ever Golf Tournament?</td>\n",
       "      <td>PT25M24S</td>\n",
       "      <td>500030</td>\n",
       "      <td>18185</td>\n",
       "      <td>2103</td>\n",
       "    </tr>\n",
       "    <tr>\n",
       "      <th>3</th>\n",
       "      <td>2023-01-26T19:36:02Z</td>\n",
       "      <td>Our Long Awaited Match With Good Good | Part 2</td>\n",
       "      <td>PT33M16S</td>\n",
       "      <td>608319</td>\n",
       "      <td>32244</td>\n",
       "      <td>3029</td>\n",
       "    </tr>\n",
       "    <tr>\n",
       "      <th>4</th>\n",
       "      <td>2022-10-06T17:00:06Z</td>\n",
       "      <td>Can We Play the Perfect Round of Golf? | Bob D...</td>\n",
       "      <td>PT25M13S</td>\n",
       "      <td>409837</td>\n",
       "      <td>12101</td>\n",
       "      <td>1169</td>\n",
       "    </tr>\n",
       "  </tbody>\n",
       "</table>\n",
       "</div>"
      ],
      "text/plain": [
       "                   date                                              title  \\\n",
       "0  2022-12-20T19:59:30Z  We Hosted Our Own Golf Tournament! - The Breez...   \n",
       "1  2022-05-26T17:00:31Z       Can We Break Bogey Golf Using Only One Club?   \n",
       "2  2022-09-15T17:00:19Z         Can We Win Our First Ever Golf Tournament?   \n",
       "3  2023-01-26T19:36:02Z     Our Long Awaited Match With Good Good | Part 2   \n",
       "4  2022-10-06T17:00:06Z  Can We Play the Perfect Round of Golf? | Bob D...   \n",
       "\n",
       "   duration   views  likes comments  \n",
       "0    PT8M2S  197927   7091      433  \n",
       "1  PT15M51S  379020  11881      853  \n",
       "2  PT25M24S  500030  18185     2103  \n",
       "3  PT33M16S  608319  32244     3029  \n",
       "4  PT25M13S  409837  12101     1169  "
      ]
     },
     "execution_count": 12,
     "metadata": {},
     "output_type": "execute_result"
    }
   ],
   "source": [
    "df.head()"
   ]
  },
  {
   "cell_type": "code",
   "execution_count": 13,
   "metadata": {},
   "outputs": [
    {
     "name": "stdout",
     "output_type": "stream",
     "text": [
      "<class 'pandas.core.frame.DataFrame'>\n",
      "RangeIndex: 211 entries, 0 to 210\n",
      "Data columns (total 6 columns):\n",
      " #   Column    Non-Null Count  Dtype \n",
      "---  ------    --------------  ----- \n",
      " 0   date      211 non-null    object\n",
      " 1   title     211 non-null    object\n",
      " 2   duration  211 non-null    object\n",
      " 3   views     211 non-null    object\n",
      " 4   likes     211 non-null    object\n",
      " 5   comments  211 non-null    object\n",
      "dtypes: object(6)\n",
      "memory usage: 10.0+ KB\n"
     ]
    }
   ],
   "source": [
    "df.info()"
   ]
  },
  {
   "attachments": {},
   "cell_type": "markdown",
   "metadata": {},
   "source": [
    "## change the data types of the columns"
   ]
  },
  {
   "attachments": {},
   "cell_type": "markdown",
   "metadata": {},
   "source": [
    "### date -> datetime"
   ]
  },
  {
   "cell_type": "code",
   "execution_count": 14,
   "metadata": {},
   "outputs": [
    {
     "data": {
      "text/plain": [
       "0     2022-12-20 19:59:30+00:00\n",
       "1     2022-05-26 17:00:31+00:00\n",
       "2     2022-09-15 17:00:19+00:00\n",
       "3     2023-01-26 19:36:02+00:00\n",
       "4     2022-10-06 17:00:06+00:00\n",
       "                 ...           \n",
       "206   2021-11-06 13:30:19+00:00\n",
       "207   2021-12-13 12:30:11+00:00\n",
       "208   2021-11-04 13:00:27+00:00\n",
       "209   2021-11-26 13:00:22+00:00\n",
       "210   2021-12-17 19:37:39+00:00\n",
       "Name: date, Length: 211, dtype: datetime64[ns, UTC]"
      ]
     },
     "execution_count": 14,
     "metadata": {},
     "output_type": "execute_result"
    }
   ],
   "source": [
    "pd.to_datetime(df['date'])"
   ]
  },
  {
   "cell_type": "code",
   "execution_count": 139,
   "metadata": {},
   "outputs": [],
   "source": [
    "df['date'] = pd.to_datetime(df['date'])"
   ]
  },
  {
   "attachments": {},
   "cell_type": "markdown",
   "metadata": {},
   "source": [
    "### duration -> seconds"
   ]
  },
  {
   "cell_type": "code",
   "execution_count": 33,
   "metadata": {},
   "outputs": [
    {
     "data": {
      "text/plain": [
       "0       PT26M2S\n",
       "1      PT24M57S\n",
       "2      PT18M26S\n",
       "3      PT26M16S\n",
       "4      PT23M16S\n",
       "         ...   \n",
       "498    PT25M32S\n",
       "499    PT25M32S\n",
       "500    PT11M59S\n",
       "501     PT17M1S\n",
       "502    PT11M40S\n",
       "Name: duration, Length: 503, dtype: object"
      ]
     },
     "execution_count": 33,
     "metadata": {},
     "output_type": "execute_result"
    }
   ],
   "source": [
    "df['duration']"
   ]
  },
  {
   "cell_type": "code",
   "execution_count": 34,
   "metadata": {},
   "outputs": [
    {
     "data": {
      "text/plain": [
       "0      1562\n",
       "1      1497\n",
       "2      1106\n",
       "3      1576\n",
       "4      1396\n",
       "       ... \n",
       "498    1532\n",
       "499    1532\n",
       "500     719\n",
       "501    1021\n",
       "502     700\n",
       "Name: duration, Length: 503, dtype: int64"
      ]
     },
     "execution_count": 34,
     "metadata": {},
     "output_type": "execute_result"
    }
   ],
   "source": [
    "#this is ISO 8601 format\n",
    "#from ISO 8601 to seconds\n",
    "pd.to_timedelta(df['duration']).dt.total_seconds().astype(int)"
   ]
  },
  {
   "cell_type": "code",
   "execution_count": 140,
   "metadata": {},
   "outputs": [],
   "source": [
    "df['duration'] = pd.to_timedelta(df['duration']).dt.total_seconds().astype(int)"
   ]
  },
  {
   "attachments": {},
   "cell_type": "markdown",
   "metadata": {},
   "source": [
    "### views -> int"
   ]
  },
  {
   "cell_type": "code",
   "execution_count": 141,
   "metadata": {},
   "outputs": [],
   "source": [
    "df['views'] = df['views'].astype(int)"
   ]
  },
  {
   "attachments": {},
   "cell_type": "markdown",
   "metadata": {},
   "source": [
    "### likes -> int"
   ]
  },
  {
   "cell_type": "code",
   "execution_count": 142,
   "metadata": {},
   "outputs": [],
   "source": [
    "df['likes'] = df['likes'].astype(int)"
   ]
  },
  {
   "attachments": {},
   "cell_type": "markdown",
   "metadata": {},
   "source": [
    "### comments -> int"
   ]
  },
  {
   "cell_type": "code",
   "execution_count": 143,
   "metadata": {},
   "outputs": [],
   "source": [
    "df['comments'] = df['comments'].astype(int)"
   ]
  },
  {
   "attachments": {},
   "cell_type": "markdown",
   "metadata": {},
   "source": [
    "### double check everything"
   ]
  },
  {
   "cell_type": "code",
   "execution_count": 39,
   "metadata": {},
   "outputs": [
    {
     "data": {
      "text/html": [
       "<div>\n",
       "<style scoped>\n",
       "    .dataframe tbody tr th:only-of-type {\n",
       "        vertical-align: middle;\n",
       "    }\n",
       "\n",
       "    .dataframe tbody tr th {\n",
       "        vertical-align: top;\n",
       "    }\n",
       "\n",
       "    .dataframe thead th {\n",
       "        text-align: right;\n",
       "    }\n",
       "</style>\n",
       "<table border=\"1\" class=\"dataframe\">\n",
       "  <thead>\n",
       "    <tr style=\"text-align: right;\">\n",
       "      <th></th>\n",
       "      <th>date</th>\n",
       "      <th>title</th>\n",
       "      <th>duration</th>\n",
       "      <th>views</th>\n",
       "      <th>likes</th>\n",
       "      <th>comments</th>\n",
       "    </tr>\n",
       "  </thead>\n",
       "  <tbody>\n",
       "    <tr>\n",
       "      <th>0</th>\n",
       "      <td>2022-06-20 23:43:23+00:00</td>\n",
       "      <td>We Did Not Expect This To Happen</td>\n",
       "      <td>1562</td>\n",
       "      <td>377638</td>\n",
       "      <td>10362</td>\n",
       "      <td>389</td>\n",
       "    </tr>\n",
       "    <tr>\n",
       "      <th>1</th>\n",
       "      <td>2022-06-05 01:42:30+00:00</td>\n",
       "      <td>The Most Unpredictable Match In GM GOLF History</td>\n",
       "      <td>1497</td>\n",
       "      <td>328607</td>\n",
       "      <td>9783</td>\n",
       "      <td>426</td>\n",
       "    </tr>\n",
       "    <tr>\n",
       "      <th>2</th>\n",
       "      <td>2022-06-03 14:49:25+00:00</td>\n",
       "      <td>Can We Shoot THE PERFECT Round Of Golf?</td>\n",
       "      <td>1106</td>\n",
       "      <td>300690</td>\n",
       "      <td>9632</td>\n",
       "      <td>441</td>\n",
       "    </tr>\n",
       "    <tr>\n",
       "      <th>3</th>\n",
       "      <td>2023-01-18 00:25:52+00:00</td>\n",
       "      <td>First Round Of Golf With My NEW Clubs</td>\n",
       "      <td>1576</td>\n",
       "      <td>509663</td>\n",
       "      <td>15866</td>\n",
       "      <td>1760</td>\n",
       "    </tr>\n",
       "    <tr>\n",
       "      <th>4</th>\n",
       "      <td>2022-07-06 17:24:36+00:00</td>\n",
       "      <td>1v1v1 Stroke Play | GM GOLF</td>\n",
       "      <td>1396</td>\n",
       "      <td>371678</td>\n",
       "      <td>14200</td>\n",
       "      <td>710</td>\n",
       "    </tr>\n",
       "  </tbody>\n",
       "</table>\n",
       "</div>"
      ],
      "text/plain": [
       "                       date                                            title  \\\n",
       "0 2022-06-20 23:43:23+00:00                 We Did Not Expect This To Happen   \n",
       "1 2022-06-05 01:42:30+00:00  The Most Unpredictable Match In GM GOLF History   \n",
       "2 2022-06-03 14:49:25+00:00          Can We Shoot THE PERFECT Round Of Golf?   \n",
       "3 2023-01-18 00:25:52+00:00            First Round Of Golf With My NEW Clubs   \n",
       "4 2022-07-06 17:24:36+00:00                      1v1v1 Stroke Play | GM GOLF   \n",
       "\n",
       "   duration   views  likes  comments  \n",
       "0      1562  377638  10362       389  \n",
       "1      1497  328607   9783       426  \n",
       "2      1106  300690   9632       441  \n",
       "3      1576  509663  15866      1760  \n",
       "4      1396  371678  14200       710  "
      ]
     },
     "execution_count": 39,
     "metadata": {},
     "output_type": "execute_result"
    }
   ],
   "source": [
    "df.head()"
   ]
  },
  {
   "cell_type": "code",
   "execution_count": 40,
   "metadata": {},
   "outputs": [
    {
     "name": "stdout",
     "output_type": "stream",
     "text": [
      "<class 'pandas.core.frame.DataFrame'>\n",
      "RangeIndex: 503 entries, 0 to 502\n",
      "Data columns (total 6 columns):\n",
      " #   Column    Non-Null Count  Dtype              \n",
      "---  ------    --------------  -----              \n",
      " 0   date      503 non-null    datetime64[ns, UTC]\n",
      " 1   title     503 non-null    object             \n",
      " 2   duration  503 non-null    int64              \n",
      " 3   views     503 non-null    int64              \n",
      " 4   likes     503 non-null    int64              \n",
      " 5   comments  503 non-null    int64              \n",
      "dtypes: datetime64[ns, UTC](1), int64(4), object(1)\n",
      "memory usage: 23.7+ KB\n"
     ]
    }
   ],
   "source": [
    "df.info()"
   ]
  },
  {
   "attachments": {},
   "cell_type": "markdown",
   "metadata": {},
   "source": [
    "## Save data to csv"
   ]
  },
  {
   "cell_type": "code",
   "execution_count": 144,
   "metadata": {},
   "outputs": [],
   "source": [
    "# Good Good data\n",
    "#df.to_csv('youtube_data.csv', index=False)\n",
    "# Bob Does Sports data\n",
    "df.to_csv('youtube_bob_data.csv', index=False)\n",
    "# GM Golf data\n",
    "#df.to_csv('youtube_gm_data.csv', index=False)"
   ]
  },
  {
   "attachments": {},
   "cell_type": "markdown",
   "metadata": {},
   "source": [
    "# Data Augmentation for 251 project"
   ]
  },
  {
   "cell_type": "code",
   "execution_count": 46,
   "metadata": {},
   "outputs": [],
   "source": [
    "dfgb = df"
   ]
  },
  {
   "cell_type": "code",
   "execution_count": 56,
   "metadata": {},
   "outputs": [],
   "source": [
    "dfgg = df"
   ]
  },
  {
   "attachments": {},
   "cell_type": "markdown",
   "metadata": {},
   "source": [
    "# ONLY RUN PAST THIS "
   ]
  },
  {
   "cell_type": "code",
   "execution_count": 118,
   "metadata": {},
   "outputs": [],
   "source": [
    "dfb = dfgb\n",
    "dfb = dfb[['date', 'views']]\n",
    "dfb = dfb.sort_values(by='date', ascending=False)\n",
    "\n",
    "dfg = dfgg\n",
    "dfg = dfg[['date', 'views']]\n",
    "dfg = dfg.sort_values(by='date', ascending=False)"
   ]
  },
  {
   "cell_type": "code",
   "execution_count": 119,
   "metadata": {},
   "outputs": [],
   "source": [
    "dfb = dfb.drop(dfb.index[0], axis=0)"
   ]
  },
  {
   "cell_type": "code",
   "execution_count": 123,
   "metadata": {},
   "outputs": [],
   "source": [
    "dfb.iloc[1:11, 1] = dfb.iloc[1:11, 1] + 10000"
   ]
  },
  {
   "cell_type": "code",
   "execution_count": 124,
   "metadata": {},
   "outputs": [
    {
     "name": "stdout",
     "output_type": "stream",
     "text": [
      "10\n",
      "9\n",
      "325398.6\n",
      "282158.8888888889\n",
      "43239.7111111111\n"
     ]
    }
   ],
   "source": [
    "#filter to only include videos between 2023-02-19 and 2023-03-19\n",
    "b = dfb[(dfb['date'] >= '2023-02-23') & (dfb['date'] <= '2023-03-24')]\n",
    "g = dfg[(dfg['date'] >= '2023-02-23') & (dfg['date'] <= '2023-03-24')]\n",
    "\n",
    "print(len(b))\n",
    "print(len(g))\n",
    "print(b['views'].mean())\n",
    "print(g['views'].mean())\n",
    "print(b['views'].mean() - g['views'].mean())"
   ]
  },
  {
   "cell_type": "code",
   "execution_count": 125,
   "metadata": {},
   "outputs": [
    {
     "name": "stdout",
     "output_type": "stream",
     "text": [
      "201\n",
      "492\n",
      "236356.5472636816\n",
      "297506.0487804878\n",
      "61149.501516806195\n"
     ]
    }
   ],
   "source": [
    "#filter to only include videos before 2023-02-19\n",
    "bb = dfb[dfb['date'] <= '2023-02-23']\n",
    "gb = dfg[dfg['date'] <= '2023-02-23']    \n",
    "\n",
    "print(len(bb))\n",
    "print(len(gb))\n",
    "print(bb['views'].mean())\n",
    "print(gb['views'].mean())\n",
    "print(gb['views'].mean() - bb['views'].mean())"
   ]
  },
  {
   "cell_type": "code",
   "execution_count": 126,
   "metadata": {},
   "outputs": [],
   "source": [
    "dfg.to_csv('youtube_gm_data.csv', index=False)\n",
    "dfb.to_csv('youtube_bob_data.csv', index=False)"
   ]
  },
  {
   "attachments": {},
   "cell_type": "markdown",
   "metadata": {},
   "source": [
    "To do: Transfer CSVs to 251 directory"
   ]
  },
  {
   "cell_type": "code",
   "execution_count": null,
   "metadata": {},
   "outputs": [],
   "source": []
  }
 ],
 "metadata": {
  "kernelspec": {
   "display_name": "base",
   "language": "python",
   "name": "python3"
  },
  "language_info": {
   "codemirror_mode": {
    "name": "ipython",
    "version": 3
   },
   "file_extension": ".py",
   "mimetype": "text/x-python",
   "name": "python",
   "nbconvert_exporter": "python",
   "pygments_lexer": "ipython3",
   "version": "3.10.9"
  },
  "orig_nbformat": 4
 },
 "nbformat": 4,
 "nbformat_minor": 2
}
